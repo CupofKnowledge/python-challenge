{
 "cells": [
  {
   "cell_type": "code",
   "execution_count": 1,
   "id": "06c8a8e8",
   "metadata": {},
   "outputs": [],
   "source": [
    "# Import Dependencies\n",
    "import os\n",
    "import csv"
   ]
  },
  {
   "cell_type": "code",
   "execution_count": 2,
   "id": "b6c5d8d6",
   "metadata": {},
   "outputs": [],
   "source": [
    "# Connect to CSV\n",
    "csvpath = os.path.join('..', 'Resources', 'election_data.csv')"
   ]
  },
  {
   "cell_type": "code",
   "execution_count": 3,
   "id": "f0a9eda8",
   "metadata": {},
   "outputs": [],
   "source": [
    "# Set up lists to store data\n",
    "election_id = []\n",
    "election_candidate = []\n",
    "candidates = []"
   ]
  },
  {
   "cell_type": "code",
   "execution_count": 4,
   "id": "356f8cc6",
   "metadata": {},
   "outputs": [],
   "source": [
    "# Read the CSV\n",
    "with open(csvpath) as csvfile:\n",
    "    csvreader = csv.reader(csvfile, delimiter=\",\")\n",
    "    # Save header\n",
    "    header = next(csvreader)\n",
    "    # Loop through CSV\n",
    "    for row in csvreader:\n",
    "        election_id.append(row[0])\n",
    "        election_candidate.append(row[2])"
   ]
  },
  {
   "cell_type": "code",
   "execution_count": 5,
   "id": "daf94202",
   "metadata": {},
   "outputs": [],
   "source": [
    "# Find total number of votes cast\n",
    "total_votes = len(election_id)"
   ]
  },
  {
   "cell_type": "code",
   "execution_count": 11,
   "id": "62fa4a90",
   "metadata": {},
   "outputs": [],
   "source": [
    "#Find list of candidates\n",
    "for row in election_candidate:\n",
    "    if election_candidate not in candidates:\n",
    "        candidates.append(election_candidate)"
   ]
  },
  {
   "cell_type": "code",
   "execution_count": 15,
   "id": "1c5eb6de",
   "metadata": {},
   "outputs": [
    {
     "ename": "NameError",
     "evalue": "name 'NotebookApp' is not defined",
     "output_type": "error",
     "traceback": [
      "\u001b[1;31m---------------------------------------------------------------------------\u001b[0m",
      "\u001b[1;31mNameError\u001b[0m                                 Traceback (most recent call last)",
      "\u001b[1;32m~\\AppData\\Local\\Temp/ipykernel_21656/2902609944.py\u001b[0m in \u001b[0;36m<module>\u001b[1;34m\u001b[0m\n\u001b[1;32m----> 1\u001b[1;33m \u001b[0mNotebookApp\u001b[0m\u001b[1;33m.\u001b[0m\u001b[0miopub_data_rate_limit\u001b[0m\u001b[1;33m=\u001b[0m\u001b[1;36m1.0e10\u001b[0m\u001b[1;33m\u001b[0m\u001b[1;33m\u001b[0m\u001b[0m\n\u001b[0m",
      "\u001b[1;31mNameError\u001b[0m: name 'NotebookApp' is not defined"
     ]
    }
   ],
   "source": []
  },
  {
   "cell_type": "code",
   "execution_count": null,
   "id": "46a2730c",
   "metadata": {},
   "outputs": [],
   "source": []
  }
 ],
 "metadata": {
  "kernelspec": {
   "display_name": "Python 3 (ipykernel)",
   "language": "python",
   "name": "python3"
  },
  "language_info": {
   "codemirror_mode": {
    "name": "ipython",
    "version": 3
   },
   "file_extension": ".py",
   "mimetype": "text/x-python",
   "name": "python",
   "nbconvert_exporter": "python",
   "pygments_lexer": "ipython3",
   "version": "3.9.7"
  }
 },
 "nbformat": 4,
 "nbformat_minor": 5
}
