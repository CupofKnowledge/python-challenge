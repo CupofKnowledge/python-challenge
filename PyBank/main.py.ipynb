{
 "cells": [
  {
   "cell_type": "code",
   "execution_count": 1,
   "id": "ae904b0f",
   "metadata": {},
   "outputs": [],
   "source": [
    "# Import Dependencies\n",
    "import os\n",
    "import csv"
   ]
  },
  {
   "cell_type": "code",
   "execution_count": 2,
   "id": "c0946d2d",
   "metadata": {},
   "outputs": [],
   "source": [
    "# Connect to CSV\n",
    "csvpath = os.path.join('..', 'Resources', 'budget_data.csv')"
   ]
  },
  {
   "cell_type": "code",
   "execution_count": 3,
   "id": "d15f4910",
   "metadata": {},
   "outputs": [],
   "source": [
    "# Set up lists to store data\n",
    "budget_months = []\n",
    "budget_profits = []\n",
    "budget_changes = []"
   ]
  },
  {
   "cell_type": "code",
   "execution_count": 4,
   "id": "b9390128",
   "metadata": {},
   "outputs": [],
   "source": [
    "# Read the CSV\n",
    "with open(csvpath) as csvfile:\n",
    "    csvreader = csv.reader(csvfile, delimiter=\",\")\n",
    "    # Save header\n",
    "    header = next(csvreader)\n",
    "    # Loop through CSV\n",
    "    for row in csvreader:\n",
    "        budget_months.append(row[0])\n",
    "        budget_profits.append(int(row[1]))"
   ]
  },
  {
   "cell_type": "code",
   "execution_count": 5,
   "id": "cecffdf1",
   "metadata": {},
   "outputs": [],
   "source": [
    "# Find total months recorded\n",
    "total_months = len(budget_months)"
   ]
  },
  {
   "cell_type": "code",
   "execution_count": 6,
   "id": "4a567ea9",
   "metadata": {},
   "outputs": [],
   "source": [
    "# Find total amount of profits\n",
    "total = sum(budget_profits)"
   ]
  },
  {
   "cell_type": "code",
   "execution_count": 7,
   "id": "e3322633",
   "metadata": {},
   "outputs": [],
   "source": [
    "# Find changes in profits over each month\n",
    "for x in range(1,total_months):\n",
    "    current_row = budget_profits[x]\n",
    "    prev_row = budget_profits[x-1]\n",
    "    change = current_row - prev_row\n",
    "    budget_changes.append(change)"
   ]
  },
  {
   "cell_type": "code",
   "execution_count": 8,
   "id": "0a3d0032",
   "metadata": {},
   "outputs": [],
   "source": [
    "# Find greatest increase in profits and month\n",
    "most_increase = max(budget_changes)\n",
    "month_increase_index = budget_changes.index(most_increase)\n",
    "most_month = budget_months[month_increase_index+1]"
   ]
  },
  {
   "cell_type": "code",
   "execution_count": 9,
   "id": "2a77c765",
   "metadata": {},
   "outputs": [],
   "source": [
    "# Find greatest increase in profits and month\n",
    "most_decrease = min(budget_changes)\n",
    "month_decrease_index = budget_changes.index(most_decrease)\n",
    "least_month = budget_months[month_decrease_index+1]"
   ]
  },
  {
   "cell_type": "code",
   "execution_count": 10,
   "id": "9d8630b2",
   "metadata": {},
   "outputs": [],
   "source": [
    "# Find average monthly change\n",
    "amount_changes = len(budget_changes)\n",
    "change_total = sum(budget_changes)\n",
    "average_change = (change_total/amount_changes)"
   ]
  },
  {
   "cell_type": "code",
   "execution_count": 14,
   "id": "07dc4cd2",
   "metadata": {},
   "outputs": [
    {
     "name": "stdout",
     "output_type": "stream",
     "text": [
      "Financial Analysis\n",
      "----------------------------\n",
      "Total Months: 86\n",
      "Total: $38382578\n",
      "Average  Change: $-2315.1176470588234\n",
      "Greatest Increase in Profits: Feb-2012 ($1926159)\n",
      "Greatest Decrease in Profits: Sep-2013 ($-2196167)\n"
     ]
    }
   ],
   "source": [
    "# Print out results\n",
    "print (\"Financial Analysis\")\n",
    "print (\"----------------------------\")\n",
    "print (f\"Total Months: {total_months}\")\n",
    "print (f\"Total: ${total}\")\n",
    "print (f\"Average  Change: ${average_change}\")\n",
    "print (f\"Greatest Increase in Profits: {most_month} (${most_increase})\")\n",
    "print (f\"Greatest Decrease in Profits: {least_month} (${most_decrease})\")"
   ]
  },
  {
   "cell_type": "code",
   "execution_count": 17,
   "id": "1ae2b84a",
   "metadata": {},
   "outputs": [],
   "source": [
    "# Specify the file to write to\n",
    "output_path = os.path.join(\"Analysis\", \"new.csv\")"
   ]
  },
  {
   "cell_type": "code",
   "execution_count": 19,
   "id": "249d5592",
   "metadata": {},
   "outputs": [],
   "source": [
    "# Open the file using \"write\" mode. Specify the variable to hold the contents\n",
    "with open(output_path, 'w', newline='') as csvfile:\n",
    "\n",
    "    # Initialize csv.writer\n",
    "    csvwriter = csv.writer(csvfile, delimiter=',')\n",
    "\n",
    "    # Write the rows\n",
    "    csvwriter.writerow([\"Financial Analysis\"])\n",
    "    csvwriter.writerow([\"----------------------------\"])\n",
    "    csvwriter.writerow([f\"Total Months: {total_months}\"])\n",
    "    csvwriter.writerow([f\"Total: ${total}\"])\n",
    "    csvwriter.writerow([f\"Average  Change: ${average_change}\"])\n",
    "    csvwriter.writerow([f\"Greatest Increase in Profits: {most_month} (${most_increase})\"])\n",
    "    csvwriter.writerow([f\"Greatest Decrease in Profits: {least_month} (${most_decrease})\"])"
   ]
  },
  {
   "cell_type": "code",
   "execution_count": null,
   "id": "d47e73ed",
   "metadata": {},
   "outputs": [],
   "source": []
  }
 ],
 "metadata": {
  "kernelspec": {
   "display_name": "Python 3 (ipykernel)",
   "language": "python",
   "name": "python3"
  },
  "language_info": {
   "codemirror_mode": {
    "name": "ipython",
    "version": 3
   },
   "file_extension": ".py",
   "mimetype": "text/x-python",
   "name": "python",
   "nbconvert_exporter": "python",
   "pygments_lexer": "ipython3",
   "version": "3.9.7"
  }
 },
 "nbformat": 4,
 "nbformat_minor": 5
}
